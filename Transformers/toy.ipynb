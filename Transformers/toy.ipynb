{
 "cells": [
  {
   "cell_type": "code",
   "execution_count": 1,
   "metadata": {},
   "outputs": [
    {
     "name": "stdout",
     "output_type": "stream",
     "text": [
      "Collecting transformers\n",
      "  Downloading transformers-4.49.0-py3-none-any.whl.metadata (44 kB)\n",
      "     ---------------------------------------- 0.0/44.0 kB ? eta -:--:--\n",
      "     -------------------------- ----------- 30.7/44.0 kB 640.0 kB/s eta 0:00:01\n",
      "     -------------------------------------- 44.0/44.0 kB 718.8 kB/s eta 0:00:00\n",
      "Requirement already satisfied: filelock in c:\\users\\windows 11\\anaconda3\\lib\\site-packages (from transformers) (3.13.1)\n",
      "Collecting huggingface-hub<1.0,>=0.26.0 (from transformers)\n",
      "  Downloading huggingface_hub-0.29.2-py3-none-any.whl.metadata (13 kB)\n",
      "Requirement already satisfied: numpy>=1.17 in c:\\users\\windows 11\\anaconda3\\lib\\site-packages (from transformers) (1.26.4)\n",
      "Requirement already satisfied: packaging>=20.0 in c:\\users\\windows 11\\anaconda3\\lib\\site-packages (from transformers) (23.2)\n",
      "Requirement already satisfied: pyyaml>=5.1 in c:\\users\\windows 11\\anaconda3\\lib\\site-packages (from transformers) (6.0.1)\n",
      "Requirement already satisfied: regex!=2019.12.17 in c:\\users\\windows 11\\anaconda3\\lib\\site-packages (from transformers) (2023.10.3)\n",
      "Requirement already satisfied: requests in c:\\users\\windows 11\\anaconda3\\lib\\site-packages (from transformers) (2.32.2)\n",
      "Collecting tokenizers<0.22,>=0.21 (from transformers)\n",
      "  Downloading tokenizers-0.21.0-cp39-abi3-win_amd64.whl.metadata (6.9 kB)\n",
      "Collecting safetensors>=0.4.1 (from transformers)\n",
      "  Downloading safetensors-0.5.3-cp38-abi3-win_amd64.whl.metadata (3.9 kB)\n",
      "Requirement already satisfied: tqdm>=4.27 in c:\\users\\windows 11\\anaconda3\\lib\\site-packages (from transformers) (4.66.4)\n",
      "Requirement already satisfied: fsspec>=2023.5.0 in c:\\users\\windows 11\\anaconda3\\lib\\site-packages (from huggingface-hub<1.0,>=0.26.0->transformers) (2024.3.1)\n",
      "Requirement already satisfied: typing-extensions>=3.7.4.3 in c:\\users\\windows 11\\anaconda3\\lib\\site-packages (from huggingface-hub<1.0,>=0.26.0->transformers) (4.11.0)\n",
      "Requirement already satisfied: colorama in c:\\users\\windows 11\\anaconda3\\lib\\site-packages (from tqdm>=4.27->transformers) (0.4.6)\n",
      "Requirement already satisfied: charset-normalizer<4,>=2 in c:\\users\\windows 11\\anaconda3\\lib\\site-packages (from requests->transformers) (2.0.4)\n",
      "Requirement already satisfied: idna<4,>=2.5 in c:\\users\\windows 11\\anaconda3\\lib\\site-packages (from requests->transformers) (3.7)\n",
      "Requirement already satisfied: urllib3<3,>=1.21.1 in c:\\users\\windows 11\\anaconda3\\lib\\site-packages (from requests->transformers) (2.2.2)\n",
      "Requirement already satisfied: certifi>=2017.4.17 in c:\\users\\windows 11\\anaconda3\\lib\\site-packages (from requests->transformers) (2025.1.31)\n",
      "Downloading transformers-4.49.0-py3-none-any.whl (10.0 MB)\n",
      "   ---------------------------------------- 0.0/10.0 MB ? eta -:--:--\n",
      "   ---------------------------------------- 0.1/10.0 MB 2.2 MB/s eta 0:00:05\n",
      "   - -------------------------------------- 0.4/10.0 MB 3.8 MB/s eta 0:00:03\n",
      "   -- ------------------------------------- 0.6/10.0 MB 4.1 MB/s eta 0:00:03\n",
      "   --- ------------------------------------ 0.9/10.0 MB 5.1 MB/s eta 0:00:02\n",
      "   ---- ----------------------------------- 1.2/10.0 MB 5.0 MB/s eta 0:00:02\n",
      "   ------ --------------------------------- 1.5/10.0 MB 5.5 MB/s eta 0:00:02\n",
      "   ------- -------------------------------- 1.8/10.0 MB 5.5 MB/s eta 0:00:02\n",
      "   -------- ------------------------------- 2.2/10.0 MB 5.9 MB/s eta 0:00:02\n",
      "   ---------- ----------------------------- 2.6/10.0 MB 6.2 MB/s eta 0:00:02\n",
      "   ----------- ---------------------------- 3.0/10.0 MB 6.3 MB/s eta 0:00:02\n",
      "   ------------- -------------------------- 3.4/10.0 MB 6.7 MB/s eta 0:00:01\n",
      "   --------------- ------------------------ 3.8/10.0 MB 6.7 MB/s eta 0:00:01\n",
      "   ----------------- ---------------------- 4.2/10.0 MB 6.9 MB/s eta 0:00:01\n",
      "   ------------------ --------------------- 4.7/10.0 MB 7.1 MB/s eta 0:00:01\n",
      "   -------------------- ------------------- 5.1/10.0 MB 7.2 MB/s eta 0:00:01\n",
      "   ---------------------- ----------------- 5.5/10.0 MB 7.3 MB/s eta 0:00:01\n",
      "   ----------------------- ---------------- 5.9/10.0 MB 7.4 MB/s eta 0:00:01\n",
      "   ------------------------ --------------- 6.2/10.0 MB 7.4 MB/s eta 0:00:01\n",
      "   --------------------------- ------------ 6.8/10.0 MB 7.6 MB/s eta 0:00:01\n",
      "   ---------------------------- ----------- 7.0/10.0 MB 7.5 MB/s eta 0:00:01\n",
      "   ------------------------------ --------- 7.5/10.0 MB 7.7 MB/s eta 0:00:01\n",
      "   ------------------------------- -------- 8.0/10.0 MB 7.7 MB/s eta 0:00:01\n",
      "   --------------------------------- ------ 8.4/10.0 MB 7.9 MB/s eta 0:00:01\n",
      "   ---------------------------------- ----- 8.7/10.0 MB 7.7 MB/s eta 0:00:01\n",
      "   ------------------------------------ --- 9.1/10.0 MB 7.8 MB/s eta 0:00:01\n",
      "   -------------------------------------- - 9.5/10.0 MB 7.8 MB/s eta 0:00:01\n",
      "   ---------------------------------------  10.0/10.0 MB 8.0 MB/s eta 0:00:01\n",
      "   ---------------------------------------- 10.0/10.0 MB 7.9 MB/s eta 0:00:00\n",
      "Downloading huggingface_hub-0.29.2-py3-none-any.whl (468 kB)\n",
      "   ---------------------------------------- 0.0/468.1 kB ? eta -:--:--\n",
      "   ------------------------------ -------- 368.6/468.1 kB 11.6 MB/s eta 0:00:01\n",
      "   ---------------------------------------- 468.1/468.1 kB 5.9 MB/s eta 0:00:00\n",
      "Downloading safetensors-0.5.3-cp38-abi3-win_amd64.whl (308 kB)\n",
      "   ---------------------------------------- 0.0/308.9 kB ? eta -:--:--\n",
      "   ----------------------------- --------- 235.5/308.9 kB 14.1 MB/s eta 0:00:01\n",
      "   ---------------------------------------- 308.9/308.9 kB 4.7 MB/s eta 0:00:00\n",
      "Downloading tokenizers-0.21.0-cp39-abi3-win_amd64.whl (2.4 MB)\n",
      "   ---------------------------------------- 0.0/2.4 MB ? eta -:--:--\n",
      "   ------- -------------------------------- 0.5/2.4 MB 9.4 MB/s eta 0:00:01\n",
      "   ------------- -------------------------- 0.8/2.4 MB 8.5 MB/s eta 0:00:01\n",
      "   ---------------- ----------------------- 1.0/2.4 MB 7.2 MB/s eta 0:00:01\n",
      "   ------------------------- -------------- 1.5/2.4 MB 7.9 MB/s eta 0:00:01\n",
      "   -------------------------------- ------- 1.9/2.4 MB 8.2 MB/s eta 0:00:01\n",
      "   ---------------------------------------  2.4/2.4 MB 8.5 MB/s eta 0:00:01\n",
      "   ---------------------------------------- 2.4/2.4 MB 8.5 MB/s eta 0:00:00\n",
      "Installing collected packages: safetensors, huggingface-hub, tokenizers, transformers\n",
      "Successfully installed huggingface-hub-0.29.2 safetensors-0.5.3 tokenizers-0.21.0 transformers-4.49.0\n"
     ]
    }
   ],
   "source": [
    "# Hugging face pipeline\n",
    "!pip install transformers"
   ]
  },
  {
   "cell_type": "code",
   "execution_count": 2,
   "metadata": {},
   "outputs": [
    {
     "name": "stderr",
     "output_type": "stream",
     "text": [
      "No model was supplied, defaulted to distilbert/distilbert-base-uncased-finetuned-sst-2-english and revision 714eb0f (https://huggingface.co/distilbert/distilbert-base-uncased-finetuned-sst-2-english).\n",
      "Using a pipeline without specifying a model name and revision in production is not recommended.\n"
     ]
    },
    {
     "data": {
      "application/vnd.jupyter.widget-view+json": {
       "model_id": "9ef8baf7f5bf4bc69d25b8a8aa071198",
       "version_major": 2,
       "version_minor": 0
      },
      "text/plain": [
       "config.json:   0%|          | 0.00/629 [00:00<?, ?B/s]"
      ]
     },
     "metadata": {},
     "output_type": "display_data"
    },
    {
     "name": "stderr",
     "output_type": "stream",
     "text": [
      "c:\\Users\\Windows 11\\anaconda3\\Lib\\site-packages\\huggingface_hub\\file_download.py:142: UserWarning: `huggingface_hub` cache-system uses symlinks by default to efficiently store duplicated files but your machine does not support them in C:\\Users\\Windows 11\\.cache\\huggingface\\hub\\models--distilbert--distilbert-base-uncased-finetuned-sst-2-english. Caching files will still work but in a degraded version that might require more space on your disk. This warning can be disabled by setting the `HF_HUB_DISABLE_SYMLINKS_WARNING` environment variable. For more details, see https://huggingface.co/docs/huggingface_hub/how-to-cache#limitations.\n",
      "To support symlinks on Windows, you either need to activate Developer Mode or to run Python as an administrator. In order to activate developer mode, see this article: https://docs.microsoft.com/en-us/windows/apps/get-started/enable-your-device-for-development\n",
      "  warnings.warn(message)\n"
     ]
    },
    {
     "name": "stdout",
     "output_type": "stream",
     "text": [
      "WARNING:tensorflow:From c:\\Users\\Windows 11\\anaconda3\\Lib\\site-packages\\tf_keras\\src\\losses.py:2976: The name tf.losses.sparse_softmax_cross_entropy is deprecated. Please use tf.compat.v1.losses.sparse_softmax_cross_entropy instead.\n",
      "\n"
     ]
    },
    {
     "data": {
      "application/vnd.jupyter.widget-view+json": {
       "model_id": "ff62302c9fc94077bbd60e2c27107ed3",
       "version_major": 2,
       "version_minor": 0
      },
      "text/plain": [
       "model.safetensors:   0%|          | 0.00/268M [00:00<?, ?B/s]"
      ]
     },
     "metadata": {},
     "output_type": "display_data"
    },
    {
     "name": "stdout",
     "output_type": "stream",
     "text": [
      "WARNING:tensorflow:From c:\\Users\\Windows 11\\anaconda3\\Lib\\site-packages\\tf_keras\\src\\backend.py:873: The name tf.get_default_graph is deprecated. Please use tf.compat.v1.get_default_graph instead.\n",
      "\n"
     ]
    },
    {
     "name": "stderr",
     "output_type": "stream",
     "text": [
      "All PyTorch model weights were used when initializing TFDistilBertForSequenceClassification.\n",
      "\n",
      "All the weights of TFDistilBertForSequenceClassification were initialized from the PyTorch model.\n",
      "If your task is similar to the task the model of the checkpoint was trained on, you can already use TFDistilBertForSequenceClassification for predictions without further training.\n"
     ]
    },
    {
     "data": {
      "application/vnd.jupyter.widget-view+json": {
       "model_id": "da57321e76454d37af740372ea718963",
       "version_major": 2,
       "version_minor": 0
      },
      "text/plain": [
       "tokenizer_config.json:   0%|          | 0.00/48.0 [00:00<?, ?B/s]"
      ]
     },
     "metadata": {},
     "output_type": "display_data"
    },
    {
     "data": {
      "application/vnd.jupyter.widget-view+json": {
       "model_id": "1ff9afcb34e24833969a8c171d2891e3",
       "version_major": 2,
       "version_minor": 0
      },
      "text/plain": [
       "vocab.txt:   0%|          | 0.00/232k [00:00<?, ?B/s]"
      ]
     },
     "metadata": {},
     "output_type": "display_data"
    },
    {
     "name": "stderr",
     "output_type": "stream",
     "text": [
      "Device set to use 0\n"
     ]
    },
    {
     "data": {
      "text/plain": [
       "[{'label': 'POSITIVE', 'score': 0.9998791217803955}]"
      ]
     },
     "execution_count": 2,
     "metadata": {},
     "output_type": "execute_result"
    }
   ],
   "source": [
    "from transformers import pipeline\n",
    "classifier = pipeline(\"sentiment-analysis\")\n",
    "classifier(\"This is such a great movie\")\n"
   ]
  },
  {
   "cell_type": "code",
   "execution_count": 3,
   "metadata": {},
   "outputs": [
    {
     "data": {
      "text/plain": [
       "[{'label': 'NEGATIVE', 'score': 0.999243974685669}]"
      ]
     },
     "execution_count": 3,
     "metadata": {},
     "output_type": "execute_result"
    }
   ],
   "source": [
    "classifier(\"I can't understand anything... prerequisites\")"
   ]
  },
  {
   "cell_type": "code",
   "execution_count": null,
   "metadata": {},
   "outputs": [],
   "source": []
  }
 ],
 "metadata": {
  "kernelspec": {
   "display_name": "base",
   "language": "python",
   "name": "python3"
  },
  "language_info": {
   "codemirror_mode": {
    "name": "ipython",
    "version": 3
   },
   "file_extension": ".py",
   "mimetype": "text/x-python",
   "name": "python",
   "nbconvert_exporter": "python",
   "pygments_lexer": "ipython3",
   "version": "3.12.4"
  }
 },
 "nbformat": 4,
 "nbformat_minor": 2
}
